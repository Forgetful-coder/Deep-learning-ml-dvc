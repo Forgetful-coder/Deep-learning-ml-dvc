{
 "cells": [
  {
   "cell_type": "code",
   "execution_count": 1,
   "metadata": {},
   "outputs": [],
   "source": [
    "link = 'https://drive.google.com/file/d/1PlrSK3Lcy9EsX_2DAPatncBtNK1z-Kl4/view?usp=sharing'"
   ]
  },
  {
   "cell_type": "code",
   "execution_count": 2,
   "metadata": {},
   "outputs": [
    {
     "data": {
      "text/plain": [
       "['https:',\n",
       " '',\n",
       " 'drive.google.com',\n",
       " 'file',\n",
       " 'd',\n",
       " '1PlrSK3Lcy9EsX_2DAPatncBtNK1z-Kl4',\n",
       " 'view?usp=sharing']"
      ]
     },
     "execution_count": 2,
     "metadata": {},
     "output_type": "execute_result"
    }
   ],
   "source": [
    "link.split('/')"
   ]
  },
  {
   "cell_type": "code",
   "execution_count": 3,
   "metadata": {},
   "outputs": [
    {
     "name": "stdout",
     "output_type": "stream",
     "text": [
      "1PlrSK3Lcy9EsX_2DAPatncBtNK1z-Kl4\n"
     ]
    }
   ],
   "source": [
    "file_id = link.split('/')[-2]\n",
    "print(file_id)"
   ]
  },
  {
   "cell_type": "code",
   "execution_count": 5,
   "metadata": {},
   "outputs": [
    {
     "name": "stderr",
     "output_type": "stream",
     "text": [
      "Downloading...\n",
      "From (original): https://drive.google.com/uc?/export=download&id=1PlrSK3Lcy9EsX_2DAPatncBtNK1z-Kl4\n",
      "From (redirected): https://drive.google.com/uc?%2Fexport=download&id=1PlrSK3Lcy9EsX_2DAPatncBtNK1z-Kl4&confirm=t&uuid=72b46078-a33b-4a85-a173-c93a6084b91b\n",
      "To: /Users/aayushaggarwal/Desktop/Deep-learning-ml-dvc/research/kidney_classificaion_disease.zip\n",
      "100%|██████████| 944M/944M [00:56<00:00, 16.8MB/s] \n"
     ]
    },
    {
     "data": {
      "text/plain": [
       "'kidney_classificaion_disease.zip'"
      ]
     },
     "execution_count": 5,
     "metadata": {},
     "output_type": "execute_result"
    }
   ],
   "source": [
    "import gdown\n",
    "prefix_id = 'https://drive.google.com/uc?/export=download&id='\n",
    "gdown.download(prefix_id+file_id,'kidney_classificaion_disease.zip')\n"
   ]
  },
  {
   "cell_type": "code",
   "execution_count": null,
   "metadata": {},
   "outputs": [],
   "source": []
  }
 ],
 "metadata": {
  "kernelspec": {
   "display_name": "myenv",
   "language": "python",
   "name": "python3"
  },
  "language_info": {
   "codemirror_mode": {
    "name": "ipython",
    "version": 3
   },
   "file_extension": ".py",
   "mimetype": "text/x-python",
   "name": "python",
   "nbconvert_exporter": "python",
   "pygments_lexer": "ipython3",
   "version": "3.10.14"
  }
 },
 "nbformat": 4,
 "nbformat_minor": 2
}
