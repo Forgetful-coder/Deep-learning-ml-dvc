{
 "cells": [
  {
   "cell_type": "code",
   "execution_count": 1,
   "metadata": {},
   "outputs": [],
   "source": [
    "import os"
   ]
  },
  {
   "cell_type": "code",
   "execution_count": 2,
   "metadata": {},
   "outputs": [
    {
     "data": {
      "text/plain": [
       "'/Users/aayushaggarwal/Desktop/Deep-learning-ml-dvc/research'"
      ]
     },
     "execution_count": 2,
     "metadata": {},
     "output_type": "execute_result"
    }
   ],
   "source": [
    "%pwd"
   ]
  },
  {
   "cell_type": "code",
   "execution_count": 4,
   "metadata": {},
   "outputs": [],
   "source": [
    "os.chdir('../')"
   ]
  },
  {
   "cell_type": "code",
   "execution_count": 5,
   "metadata": {},
   "outputs": [
    {
     "data": {
      "text/plain": [
       "'/Users/aayushaggarwal/Desktop/Deep-learning-ml-dvc'"
      ]
     },
     "execution_count": 5,
     "metadata": {},
     "output_type": "execute_result"
    }
   ],
   "source": [
    "%pwd"
   ]
  },
  {
   "cell_type": "code",
   "execution_count": 6,
   "metadata": {},
   "outputs": [],
   "source": [
    "from pathlib import Path\n",
    "from dataclasses import dataclass\n",
    "\n",
    "@dataclass(frozen=True)\n",
    "class DataIngestionConfig:\n",
    "    root_dir: Path\n",
    "    source_url:str\n",
    "    local_file_data:Path\n",
    "    unzip_file_path:Path"
   ]
  },
  {
   "cell_type": "code",
   "execution_count": 7,
   "metadata": {},
   "outputs": [],
   "source": [
    "from Classifier.constants import *\n",
    "from Classifier.utils.common import read_yaml,create_directories"
   ]
  },
  {
   "cell_type": "code",
   "execution_count": 9,
   "metadata": {},
   "outputs": [],
   "source": [
    "class ConfigurationManager:\n",
    "    def __init__(self,\n",
    "                 config_file_path=CONFIG_FILE_PATH,\n",
    "                 params_file_path=PARAMS_FILE_PATH):\n",
    "    \n",
    "        self.config=read_yaml(config_file_path)\n",
    "        self.params=read_yaml(params_file_path)\n",
    "\n",
    "        create_directories([self.config.artifacts_root])\n",
    "    \n",
    "\n",
    "    def get_data_ingestion_config(self)->DataIngestionConfig:\n",
    "        config = self.config.data_ingestion\n",
    "\n",
    "        create_directories([config.root_dir])\n",
    "\n",
    "        data_ingestion_config = DataIngestionConfig(\n",
    "            root_dir=config.root_dir,\n",
    "            source_url=config.source_url,\n",
    "            local_file_data=config.local_file_data,\n",
    "            unzip_file_path=config.unzip_file_path,\n",
    "        )\n",
    "\n",
    "        return data_ingestion_config\n",
    "\n",
    "        "
   ]
  },
  {
   "cell_type": "code",
   "execution_count": 10,
   "metadata": {},
   "outputs": [],
   "source": [
    "import os\n",
    "import zipfile\n",
    "import gdown\n",
    "from Classifier import logger\n",
    "from Classifier.utils.common import get_size"
   ]
  },
  {
   "cell_type": "code",
   "execution_count": 14,
   "metadata": {},
   "outputs": [],
   "source": [
    "class DataIngestion:\n",
    "    def __init__(self,config:DataIngestionConfig):\n",
    "        self.config=config\n",
    "    \n",
    "    def download_file(self)->str:\n",
    "        \"\"\"\n",
    "        downloads the data and stores into zip file\n",
    "        \"\"\"\n",
    "        try:\n",
    "            dataset_url= self.config.source_url\n",
    "            zip_location = self.config.local_file_data\n",
    "            os.makedirs(self.config.root_dir,exist_ok=True)\n",
    "\n",
    "            logger.info(f\"Downloading data from {dataset_url} into file {zip_location}\")\n",
    "\n",
    "            file_id = dataset_url.split('/')[-2]\n",
    "            prefix_id = 'https://drive.google.com/uc?/export=download&id='\n",
    "            gdown.download(prefix_id+file_id,zip_location)\n",
    "        \n",
    "        except Exception as e:\n",
    "            raise e\n",
    "    \n",
    "    def unzip_data(self):\n",
    "        ''''Extracts the data \n",
    "        Function returns None'''\n",
    "        unzip_path = self.config.unzip_file_path\n",
    "        os.makedirs(unzip_path,exist_ok=True)\n",
    "        with  zipfile.ZipFile(self.config.local_file_data,'r') as zipref:\n",
    "            zipref.extractall(unzip_path)\n",
    "\n",
    "            \n",
    "\n",
    "\n",
    "            \n"
   ]
  },
  {
   "cell_type": "code",
   "execution_count": 15,
   "metadata": {},
   "outputs": [
    {
     "name": "stdout",
     "output_type": "stream",
     "text": [
      "[2024-08-21 13:25:07,869: INFO: common: yaml file: config/config.yaml loaded successfully]\n",
      "[2024-08-21 13:25:07,870: INFO: common: yaml file: params.yaml loaded successfully]\n",
      "[2024-08-21 13:25:07,870: INFO: common: created directory at: artifacts]\n",
      "[2024-08-21 13:25:07,871: INFO: common: created directory at: artifacts/data_ingestion]\n",
      "[2024-08-21 13:25:07,871: INFO: 3529511333: Downloading data from https://drive.google.com/file/d/1PlrSK3Lcy9EsX_2DAPatncBtNK1z-Kl4/view?usp=sharing into file artifacts/data_ingestion/data.zip]\n"
     ]
    },
    {
     "name": "stderr",
     "output_type": "stream",
     "text": [
      "Downloading...\n",
      "From (original): https://drive.google.com/uc?/export=download&id=1PlrSK3Lcy9EsX_2DAPatncBtNK1z-Kl4\n",
      "From (redirected): https://drive.google.com/uc?%2Fexport=download&id=1PlrSK3Lcy9EsX_2DAPatncBtNK1z-Kl4&confirm=t&uuid=cb550285-d905-483c-a75a-ffd53be4cbd3\n",
      "To: /Users/aayushaggarwal/Desktop/Deep-learning-ml-dvc/artifacts/data_ingestion/data.zip\n",
      "100%|██████████| 944M/944M [00:40<00:00, 23.4MB/s] \n"
     ]
    }
   ],
   "source": [
    "try:\n",
    "    config=ConfigurationManager()\n",
    "    data_ingestion_config= config.get_data_ingestion_config()\n",
    "    data_ingestion = DataIngestion(config=data_ingestion_config)\n",
    "    data_ingestion.download_file()\n",
    "    data_ingestion.unzip_data()\n",
    "except Exception as e:\n",
    "    raise e"
   ]
  },
  {
   "cell_type": "code",
   "execution_count": null,
   "metadata": {},
   "outputs": [],
   "source": []
  }
 ],
 "metadata": {
  "kernelspec": {
   "display_name": "myenv",
   "language": "python",
   "name": "python3"
  },
  "language_info": {
   "codemirror_mode": {
    "name": "ipython",
    "version": 3
   },
   "file_extension": ".py",
   "mimetype": "text/x-python",
   "name": "python",
   "nbconvert_exporter": "python",
   "pygments_lexer": "ipython3",
   "version": "3.10.14"
  }
 },
 "nbformat": 4,
 "nbformat_minor": 2
}
